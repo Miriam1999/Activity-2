{
 "cells": [
  {
   "cell_type": "markdown",
   "metadata": {},
   "source": [
    "**Función 1.**"
   ]
  },
  {
   "cell_type": "markdown",
   "metadata": {},
   "source": [
    "*El intervalo que escogemos para esta función es **[0,5]**. Importamos todas las librerías necesarias:*"
   ]
  },
  {
   "cell_type": "code",
   "execution_count": 12,
   "metadata": {},
   "outputs": [],
   "source": [
    "import numpy as np\n",
    "import sympy as sym\n",
    "sym.init_printing(use_latex='mathjax')\n",
    "import matplotlib.pyplot as plt\n",
    "%matplotlib inline"
   ]
  },
  {
   "cell_type": "markdown",
   "metadata": {},
   "source": [
    "*Definimos la función 1:*"
   ]
  },
  {
   "cell_type": "code",
   "execution_count": 13,
   "metadata": {},
   "outputs": [
    {
     "data": {
      "text/latex": [
       "$$x^{2} - 4 x + 6$$"
      ],
      "text/plain": [
       " 2          \n",
       "x  - 4⋅x + 6"
      ]
     },
     "execution_count": 13,
     "metadata": {},
     "output_type": "execute_result"
    }
   ],
   "source": [
    "sym.var('x',real=True)\n",
    "f1=x**2-4*x+6\n",
    "f1"
   ]
  },
  {
   "cell_type": "markdown",
   "metadata": {},
   "source": [
    "*Calculamos su derivada:*"
   ]
  },
  {
   "cell_type": "code",
   "execution_count": 14,
   "metadata": {},
   "outputs": [
    {
     "data": {
      "text/latex": [
       "$$2 x - 4$$"
      ],
      "text/plain": [
       "2⋅x - 4"
      ]
     },
     "execution_count": 14,
     "metadata": {},
     "output_type": "execute_result"
    }
   ],
   "source": [
    "df1=sym.diff(f1,x)\n",
    "df1"
   ]
  },
  {
   "cell_type": "markdown",
   "metadata": {},
   "source": [
    "*Igualamos a 0 y resolvemos para x con el fin de sacar el valor crítico:*"
   ]
  },
  {
   "cell_type": "code",
   "execution_count": 15,
   "metadata": {},
   "outputs": [
    {
     "data": {
      "text/latex": [
       "$$\\left [ 2\\right ]$$"
      ],
      "text/plain": [
       "[2]"
      ]
     },
     "execution_count": 15,
     "metadata": {},
     "output_type": "execute_result"
    }
   ],
   "source": [
    "x_critico1=sym.solve(df1,x)\n",
    "x_critico1"
   ]
  },
  {
   "cell_type": "markdown",
   "metadata": {},
   "source": [
    "*Evaluamos el valor crítico y los extremos del intervalo que escogimos en la función 1.*"
   ]
  },
  {
   "cell_type": "code",
   "execution_count": 16,
   "metadata": {},
   "outputs": [
    {
     "data": {
      "text/latex": [
       "$$\\left ( 6, \\quad 2, \\quad 11\\right )$$"
      ],
      "text/plain": [
       "(6, 2, 11)"
      ]
     },
     "execution_count": 16,
     "metadata": {},
     "output_type": "execute_result"
    }
   ],
   "source": [
    "f1.subs(x,0),f1.subs(x,2),f1.subs(x,5)"
   ]
  },
  {
   "cell_type": "markdown",
   "metadata": {},
   "source": [
    "*De esta manera, concluímos que el máximo absoluto se encuentra en la coordenada **(5,11)** y el mínimo absoluto se encuentra en el valor crítico **(2,2)**. Ahora, realizamos la gráfica.*"
   ]
  },
  {
   "cell_type": "code",
   "execution_count": 17,
   "metadata": {},
   "outputs": [
    {
     "data": {
      "image/png": "[encoded data removed]",
      "text/plain": [
       "<Figure size 576x432 with 1 Axes>"
      ]
     },
     "metadata": {},
     "output_type": "display_data"
    }
   ],
   "source": [
    "f1_num=sym.lambdify([x],f1,'numpy')\n",
    "x1_vec=np.linspace(0,5,100)\n",
    "plt.figure(figsize=(8,6))\n",
    "plt.plot(x1_vec,f1_num(x1_vec),'k--',label='$y=f(x)$')\n",
    "plt.plot([5],[11],'*r',label='$(5,11)=\\max_{0\\leq x\\leq 5} f(x)$')\n",
    "plt.plot([2],[2],'*b',label='$(2,2)=\\min_{0\\leq x\\leq 5} f(x)$')\n",
    "plt.legend(loc='best')\n",
    "plt.xlabel('x')\n",
    "plt.ylabel('y')\n",
    "plt.show()"
   ]
  },
  {
   "cell_type": "markdown",
   "metadata": {},
   "source": [
    "**Función 2.**"
   ]
  },
  {
   "cell_type": "markdown",
   "metadata": {},
   "source": [
    "*El intervalo que escogemos para esta función es **[-5,2]**. Primero la definimos:*"
   ]
  },
  {
   "cell_type": "code",
   "execution_count": 18,
   "metadata": {},
   "outputs": [
    {
     "data": {
      "text/latex": [
       "$$x^{3} + 6 x^{2} - 2 x + 8$$"
      ],
      "text/plain": [
       " 3      2          \n",
       "x  + 6⋅x  - 2⋅x + 8"
      ]
     },
     "execution_count": 18,
     "metadata": {},
     "output_type": "execute_result"
    }
   ],
   "source": [
    "f2=x**3+6*x**2-2*x+8\n",
    "f2"
   ]
  },
  {
   "cell_type": "markdown",
   "metadata": {},
   "source": [
    "*Calculamos su derivada:*"
   ]
  },
  {
   "cell_type": "code",
   "execution_count": 19,
   "metadata": {},
   "outputs": [
    {
     "data": {
      "text/latex": [
       "$$3 x^{2} + 12 x - 2$$"
      ],
      "text/plain": [
       "   2           \n",
       "3⋅x  + 12⋅x - 2"
      ]
     },
     "execution_count": 19,
     "metadata": {},
     "output_type": "execute_result"
    }
   ],
   "source": [
    "df2=sym.diff(f2,x)\n",
    "df2"
   ]
  },
  {
   "cell_type": "markdown",
   "metadata": {},
   "source": [
    "*Igualamos a 0 y resolvemos para x con el fin de sacar los valores críticos:*"
   ]
  },
  {
   "cell_type": "code",
   "execution_count": 20,
   "metadata": {},
   "outputs": [
    {
     "name": "stdout",
     "output_type": "stream",
     "text": [
      "0.16024689946928675 -4.1602468994692865\n"
     ]
    }
   ],
   "source": [
    "x_critico2=sym.solve(df2,x)\n",
    "x_critico2\n",
    "print(float(x_critico2[0]),float(x_critico2[1]))"
   ]
  },
  {
   "cell_type": "markdown",
   "metadata": {},
   "source": [
    "*Evaluamos el valor crítico y los extremos del intervalo que escogimos en la función 2.*"
   ]
  },
  {
   "cell_type": "code",
   "execution_count": 21,
   "metadata": {},
   "outputs": [
    {
     "data": {
      "text/latex": [
       "$$\\left ( 43, \\quad 36, \\quad 7.837695619208, \\quad 48.162304380792\\right )$$"
      ],
      "text/plain": [
       "(43, 36, 7.837695619208, 48.162304380792)"
      ]
     },
     "execution_count": 21,
     "metadata": {},
     "output_type": "execute_result"
    }
   ],
   "source": [
    "f2.subs(x,-5),f2.subs(x,2),f2.subs(x,0.1602),f2.subs(x,-4.1602)"
   ]
  },
  {
   "cell_type": "markdown",
   "metadata": {},
   "source": [
    "*De esta manera, concluímos que el máximo absoluto se encuentra en la coordenada **(-4.1602,48.1623)** y el mínimo absoluto se encuentra en el valor crítico **(0.1602,7.8377)**. Ahora, realizamos la gráfica.*"
   ]
  },
  {
   "cell_type": "code",
   "execution_count": 23,
   "metadata": {},
   "outputs": [
    {
     "data": {
      "image/png": "[encoded data removed]",
      "text/plain": [
       "<Figure size 576x432 with 1 Axes>"
      ]
     },
     "metadata": {},
     "output_type": "display_data"
    }
   ],
   "source": [
    "f2_num=sym.lambdify([x],f2,'numpy')\n",
    "x2_vec=np.linspace(-5,2,100)\n",
    "plt.figure(figsize=(8,6))\n",
    "plt.plot(x2_vec,f2_num(x2_vec),'k--',label='$y=f(x)$')\n",
    "plt.plot([-4.1602],[48.1623],'*r',label='$(-5,43)=\\max_{-5\\leq x\\leq 2} f(x)$')\n",
    "plt.plot([0.1602],[7.8377],'*b',label='$(0,7.8377)=\\min_{-5\\leq x\\leq 2} f(x)$')\n",
    "plt.legend(loc='best')\n",
    "plt.xlabel('x')\n",
    "plt.ylabel('y')\n",
    "plt.show()"
   ]
  },
  {
   "cell_type": "code",
   "execution_count": null,
   "metadata": {},
   "outputs": [],
   "source": []
  }
 ],
 "metadata": {
  "kernelspec": {
   "display_name": "Python 3",
   "language": "python",
   "name": "python3"
  },
  "language_info": {
   "codemirror_mode": {
    "name": "ipython",
    "version": 3
   },
   "file_extension": ".py",
   "mimetype": "text/x-python",
   "name": "python",
   "nbconvert_exporter": "python",
   "pygments_lexer": "ipython3",
   "version": "3.6.5"
  }
 },
 "nbformat": 4,
 "nbformat_minor": 2
}
